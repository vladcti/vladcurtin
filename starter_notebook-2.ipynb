{
  "cells": [
    {
      "cell_type": "markdown",
      "id": "72e78a05",
      "metadata": {
        "id": "72e78a05"
      },
      "source": [
        "# 🌦️ vineshWeatherWise – Starter Notebook\n",
        "\n",
        "Welcome to your **WeatherWise** project notebook! This scaffold is designed to help you build your weather advisor app using Python, visualisations, and AI-enhanced development.\n",
        "\n",
        "---\n",
        "\n",
        "📄 **Full Assignment Specification**  \n",
        "See [`ASSIGNMENT.md`](ASSIGNMENT.md) or check the LMS for full details.\n",
        "\n",
        "📝 **Quick Refresher**  \n",
        "A one-page summary is available in [`resources/assignment-summary.md`](resources/assignment-summary.md).\n",
        "\n",
        "---\n",
        "\n",
        "🧠 **This Notebook Structure is Optional**  \n",
        "You’re encouraged to reorganise, rename sections, or remove scaffold cells if you prefer — as long as your final version meets the requirements.\n",
        "\n",
        "✅ You may delete this note before submission.\n",
        "\n"
      ]
    },
    {
      "cell_type": "markdown",
      "id": "fa8c7f6c",
      "metadata": {
        "id": "fa8c7f6c"
      },
      "source": [
        "## 🧰 Setup and Imports\n",
        "\n",
        "This section imports commonly used packages and installs any additional tools used in the project.\n",
        "\n",
        "- You may not need all of these unless you're using specific features (e.g. visualisations, advanced prompting).\n",
        "- The notebook assumes the following packages are **pre-installed** in the provided environment or installable via pip:\n",
        "  - `requests`, `matplotlib`, `pyinputplus`\n",
        "  - `fetch-my-weather` (for accessing weather data easily)\n",
        "  - `hands-on-ai` (for AI logging, comparisons, or prompting tools)\n",
        "\n",
        "If you're running this notebook in **Google Colab**, uncomment the following lines to install the required packages.\n"
      ]
    },
    {
      "cell_type": "code",
      "execution_count": null,
      "id": "70c3f3f1",
      "metadata": {
        "id": "70c3f3f1"
      },
      "outputs": [],
      "source": [
        "# 🧪 Optional packages — uncomment if needed in Colab or JupyterHub\n",
        "!pip install fetch-my-weather\n",
        "!pip install hands-on-ai\n"
      ]
    },
    {
      "cell_type": "code",
      "source": [
        "import os\n",
        "\n",
        "os.environ['HANDS_ON_AI_SERVER'] = 'http://ollama.serveur.au'\n",
        "os.environ['HANDS_ON_AI_MODEL'] = 'granite3.2'\n",
        "os.environ['HANDS_ON_AI_API_KEY'] = input('Enter your API key: ')"
      ],
      "metadata": {
        "id": "B2JKlJfrGgIb"
      },
      "id": "B2JKlJfrGgIb",
      "execution_count": null,
      "outputs": []
    },
    {
      "cell_type": "markdown",
      "id": "59ae7543",
      "metadata": {
        "id": "59ae7543"
      },
      "source": [
        "## 📦 Setup and Configuration\n",
        "Import required packages and setup environment."
      ]
    },
    {
      "cell_type": "code",
      "execution_count": null,
      "id": "f1dd051e",
      "metadata": {
        "id": "f1dd051e"
      },
      "outputs": [],
      "source": [
        "import requests\n",
        "import matplotlib.pyplot as plt\n",
        "import pyinputplus as pyip\n",
        "# ✅ Import after installing (if needed)\n",
        "from fetch_my_weather import get_weather\n",
        "from hands_on_ai.chat import get_response\n",
        "\n",
        "# Add any other setup code here"
      ]
    },
    {
      "cell_type": "markdown",
      "id": "f736ade3",
      "metadata": {
        "id": "f736ade3"
      },
      "source": [
        "## 🌤️ Weather Data Functions"
      ]
    },
    {
      "cell_type": "code",
      "execution_count": null,
      "id": "7a2c7cd0",
      "metadata": {
        "id": "7a2c7cd0"
      },
      "outputs": [],
      "source": [
        "# Define get_weather_data() function here\n",
        "def get_weather_data(location, forecast_days=5):\n",
        "    \"\"\"\n",
        "    Retrieve weather data for a specified location.\n",
        "\n",
        "    Args:\n",
        "        location (str): City or location name\n",
        "        forecast_days (int): Number of days to forecast (1-5)\n",
        "\n",
        "    Returns:\n",
        "        dict: Weather data including current conditions and forecast\n",
        "    \"\"\"\n",
        "    pass"
      ]
    },
    {
      "cell_type": "markdown",
      "id": "8a744fdc",
      "metadata": {
        "id": "8a744fdc"
      },
      "source": [
        "## 📊 Visualisation Functions"
      ]
    },
    {
      "cell_type": "code",
      "execution_count": null,
      "id": "9dc3bf85",
      "metadata": {
        "id": "9dc3bf85"
      },
      "outputs": [],
      "source": [
        "# Define create_temperature_visualisation() and create_precipitation_visualisation() here\n",
        "def create_temperature_visualisation(weather_data, output_type='display'):\n",
        "    \"\"\"\n",
        "    Create visualisation of temperature data.\n",
        "\n",
        "    Args:\n",
        "        weather_data (dict): The processed weather data\n",
        "        output_type (str): Either 'display' to show in notebook or 'figure' to return the figure\n",
        "\n",
        "    Returns:\n",
        "        If output_type is 'figure', returns the matplotlib figure object\n",
        "        Otherwise, displays the visualisation in the notebook\n",
        "    \"\"\"\n",
        "    pass\n"
      ]
    },
    {
      "cell_type": "code",
      "source": [
        "\n",
        "def create_precipitation_visualisation(weather_data, output_type='display'):\n",
        "    \"\"\"\n",
        "    Create visualisation of precipitation data.\n",
        "\n",
        "    Args:\n",
        "        weather_data (dict): The processed weather data\n",
        "        output_type (str): Either 'display' to show in notebook or 'figure' to return the figure\n",
        "\n",
        "    Returns:\n",
        "        If output_type is 'figure', returns the matplotlib figure object\n",
        "        Otherwise, displays the visualisation in the notebook\n",
        "    \"\"\"\n",
        "    pass"
      ],
      "metadata": {
        "id": "HpOlQylYG5Ho"
      },
      "id": "HpOlQylYG5Ho",
      "execution_count": null,
      "outputs": []
    },
    {
      "cell_type": "markdown",
      "id": "9f95d160",
      "metadata": {
        "id": "9f95d160"
      },
      "source": [
        "## 🤖 Natural Language Processing"
      ]
    },
    {
      "cell_type": "code",
      "execution_count": null,
      "id": "bcc5833e",
      "metadata": {
        "id": "bcc5833e"
      },
      "outputs": [],
      "source": [
        "# Define parse_weather_question() and generate_weather_response() here\n",
        "def parse_weather_question(question):\n",
        "    \"\"\"\n",
        "    Parse a natural language weather question.\n",
        "\n",
        "    Args:\n",
        "        question (str): User's weather-related question\n",
        "\n",
        "    Returns:\n",
        "        dict: Extracted information including location, time period, and weather attribute\n",
        "    \"\"\"\n",
        "    pass"
      ]
    },
    {
      "cell_type": "markdown",
      "id": "0d85225e",
      "metadata": {
        "id": "0d85225e"
      },
      "source": [
        "## 🧭 User Interface"
      ]
    },
    {
      "cell_type": "code",
      "execution_count": null,
      "id": "fa6cb0f6",
      "metadata": {
        "id": "fa6cb0f6"
      },
      "outputs": [],
      "source": [
        "# Define menu functions using pyinputplus or ipywidgets here"
      ]
    },
    {
      "cell_type": "markdown",
      "id": "d643a53c",
      "metadata": {
        "id": "d643a53c"
      },
      "source": [
        "## 🧩 Main Application Logic"
      ]
    },
    {
      "cell_type": "code",
      "execution_count": null,
      "id": "a9e2e805",
      "metadata": {
        "id": "a9e2e805"
      },
      "outputs": [],
      "source": [
        "# Tie everything together here\n",
        "def generate_weather_response(parsed_question, weather_data):\n",
        "    \"\"\"\n",
        "    Generate a natural language response to a weather question.\n",
        "\n",
        "    Args:\n",
        "        parsed_question (dict): Parsed question data\n",
        "        weather_data (dict): Weather data\n",
        "\n",
        "    Returns:\n",
        "        str: Natural language response\n",
        "    \"\"\"\n",
        "    pass"
      ]
    },
    {
      "cell_type": "markdown",
      "id": "fde44479",
      "metadata": {
        "id": "fde44479"
      },
      "source": [
        "## 🧪 Testing and Examples"
      ]
    },
    {
      "cell_type": "code",
      "execution_count": null,
      "id": "4e573901",
      "metadata": {
        "id": "4e573901"
      },
      "outputs": [],
      "source": [
        "# Include sample input/output for each function"
      ]
    },
    {
      "cell_type": "markdown",
      "id": "d2885880",
      "metadata": {
        "id": "d2885880"
      },
      "source": [
        "## 🗂️ AI Prompting Log (Optional)\n",
        "Add markdown cells here summarising prompts used or link to AI conversations in the `ai-conversations/` folder."
      ]
    },
    {
      "cell_type": "code",
      "source": [
        "# 📦 Setup and Imports\n",
        "import requests\n",
        "import re\n",
        "import matplotlib.pyplot as plt\n",
        "import datetime\n",
        "import ipywidgets as widgets\n",
        "from IPython.display import display, Markdown\n",
        "\n",
        "# 🌐 Weather Data Functions (wttr.in API)\n",
        "def get_weather_data(location=\"toulouse\"):\n",
        "    url = f\"https://wttr.in/{location}?format=j1\"\n",
        "    response = requests.get(url)\n",
        "    if response.status_code == 200:\n",
        "        return response.json()\n",
        "    else:\n",
        "        raise Exception(\"Failed to fetch weather data.\")\n",
        "\n",
        "# 📄 Parse Weather-Related Questions\n",
        "def parse_weather_question(question):\n",
        "    question = question.lower()\n",
        "    if \"temperature\" in question:\n",
        "        return \"temperature\"\n",
        "    elif \"rain\" in question or \"precipitation\" in question:\n",
        "        return \"precipitation\"\n",
        "    elif \"forecast\" in question:\n",
        "        return \"forecast\"\n",
        "    else:\n",
        "        return \"general\"\n",
        "\n",
        "# 🤖 Generate AI-Like Weather Response\n",
        "def generate_weather_response(data, intent):\n",
        "    today = data['weather'][0]\n",
        "    area = data['nearest_area'][0]['areaName'][0]['value']\n",
        "\n",
        "    if intent == \"temperature\":\n",
        "        min_temp = today['mintempC']\n",
        "        max_temp = today['maxtempC']\n",
        "        return f\"The temperature in {area} today will range between {min_temp}°C and {max_temp}°C.\"\n",
        "\n",
        "    elif intent == \"precipitation\":\n",
        "        hourly = today['hourly']\n",
        "        precip = [float(h['precipMM']) for h in hourly]\n",
        "        avg_precip = sum(precip) / len(precip)\n",
        "        return f\"The average chance of rain today in {area} is approximately {avg_precip:.1f} mm.\"\n",
        "\n",
        "    elif intent == \"forecast\":\n",
        "        description = today['hourly'][4]['weatherDesc'][0]['value']\n",
        "        return f\"The mid-day forecast in {area} is: {description}.\"\n",
        "\n",
        "    else:\n",
        "        desc = today['hourly'][0]['weatherDesc'][0]['value']\n",
        "        return f\"The current weather in {area} is: {desc}.\"\n",
        "\n",
        "# 📊 Visualisation Functions\n",
        "def create_temperature_visualisation(data):\n",
        "    today = data['weather'][0]\n",
        "    hours = [int(h['time'])/100 for h in today['hourly']]\n",
        "    temps = [int(h['tempC']) for h in today['hourly']]\n",
        "\n",
        "    plt.figure(figsize=(8,4))\n",
        "    plt.plot(hours, temps, marker='o')\n",
        "    plt.title(\"Temperature Forecast\")\n",
        "    plt.xlabel(\"Hour\")\n",
        "    plt.ylabel(\"Temperature (°C)\")\n",
        "    plt.grid(True)\n",
        "    plt.show()\n",
        "\n",
        "def create_precipitation_visualisation(data):\n",
        "    today = data['weather'][0]\n",
        "    hours = [int(h['time'])/100 for h in today['hourly']]\n",
        "    precip = [float(h['precipMM']) for h in today['hourly']]\n",
        "\n",
        "    plt.figure(figsize=(8,4))\n",
        "    plt.bar(hours, precip, color='skyblue')\n",
        "    plt.title(\"Precipitation Forecast\")\n",
        "    plt.xlabel(\"Hour\")\n",
        "    plt.ylabel(\"Precipitation (mm)\")\n",
        "    plt.grid(True)\n",
        "    plt.show()\n",
        "\n",
        "# 🧑‍💻 User Interface\n",
        "def run_weather_advisor():\n",
        "    location_input = widgets.Text(value='location mauritius', description='Location:')\n",
        "    question_input = widgets.Text(value='What is the temperature today?', description='Your Question:')\n",
        "    button = widgets.Button(description='Get Forecast')\n",
        "\n",
        "    output = widgets.Output()\n",
        "\n",
        "    def on_click(b):\n",
        "        with output:\n",
        "            output.clear_output()\n",
        "            location = location_input.value\n",
        "            question = question_input.value\n",
        "            try:\n",
        "                data = get_weather_data(location)\n",
        "                intent = parse_weather_question(question)\n",
        "                response = generate_weather_response(data, intent)\n",
        "                display(Markdown(f\"**Response:** {response}\"))\n",
        "                if intent == \"temperature\":\n",
        "                    create_temperature_visualisation(data)\n",
        "                elif intent == \"precipitation\":\n",
        "                    create_precipitation_visualisation(data)\n",
        "            except Exception as e:\n",
        "                display(Markdown(f\"**Error:** {str(e)}\"))\n",
        "\n",
        "    button.on_click(on_click)\n",
        "    display(location_input, question_input, button, output)\n",
        "\n",
        "# 🚀 Launch the App\n",
        "run_weather_advisor()"
      ],
      "metadata": {
        "colab": {
          "base_uri": "https://localhost:8080/",
          "height": 535,
          "referenced_widgets": [
            "230365b0af46413bbeeac3178c0df16e",
            "a5728b5dff2d418fbab5bb6b06ffd705",
            "dcec1f01c77d4f188ba910ca8fd6f283",
            "94683ba6001e460da873c40793b9a66a",
            "89c1ebb1660a48fea37f484cddbe586a",
            "1ef27a6a6ba84daa94781c23d70d5fbc",
            "1de5b8ad4f3c4c5e941e78d26356627b",
            "373d270116f34bbdafc4cbc2920156b8",
            "44a994d9e2c24fc5a76163b6e201437e",
            "5b257ffb93f8472bb1ab136e96a0785d",
            "1365a063f084470e8c144d9ec3524e7d"
          ]
        },
        "id": "LzsisqkaKSSN",
        "outputId": "a8ae99ab-120d-4d09-901f-f7bfdf53d622"
      },
      "id": "LzsisqkaKSSN",
      "execution_count": 1,
      "outputs": [
        {
          "output_type": "display_data",
          "data": {
            "text/plain": [
              "Text(value='location mauritius', description='Location:')"
            ],
            "application/vnd.jupyter.widget-view+json": {
              "version_major": 2,
              "version_minor": 0,
              "model_id": "230365b0af46413bbeeac3178c0df16e"
            }
          },
          "metadata": {}
        },
        {
          "output_type": "display_data",
          "data": {
            "text/plain": [
              "Text(value='What is the temperature today?', description='Your Question:')"
            ],
            "application/vnd.jupyter.widget-view+json": {
              "version_major": 2,
              "version_minor": 0,
              "model_id": "94683ba6001e460da873c40793b9a66a"
            }
          },
          "metadata": {}
        },
        {
          "output_type": "display_data",
          "data": {
            "text/plain": [
              "Button(description='Get Forecast', style=ButtonStyle())"
            ],
            "application/vnd.jupyter.widget-view+json": {
              "version_major": 2,
              "version_minor": 0,
              "model_id": "1de5b8ad4f3c4c5e941e78d26356627b"
            }
          },
          "metadata": {}
        },
        {
          "output_type": "display_data",
          "data": {
            "text/plain": [
              "Output()"
            ],
            "application/vnd.jupyter.widget-view+json": {
              "version_major": 2,
              "version_minor": 0,
              "model_id": "5b257ffb93f8472bb1ab136e96a0785d"
            }
          },
          "metadata": {}
        }
      ]
    },
    {
      "cell_type": "markdown",
      "source": [
        "---\n",
        "\n",
        "Tool: ChatGPT\n",
        "Date: 2025-04-15\n",
        "----------------\n",
        "\n",
        "Me: I want to build a simple weather app in Python that tells me the temperature and condition in my city.\n",
        "\n",
        "AI: You can use an API like weatherapi.com. Use the `requests` library to fetch data. Here's a starter snippet:\n",
        "\n",
        "```python\n",
        "import requests\n",
        "api_url = \"https://api.weatherapi.com/v1/current.json\"\n",
        "key = \"your_api_key\"\n",
        "location = \"Perth\"\n",
        "response = requests.get(f\"{api_url}?key={key}&q={location}\")\n",
        "data = response.json()\n",
        "print(data)\n",
        "```\n",
        "\n",
        "Me: This works, but how do I extract just the temperature and condition?\n",
        "\n",
        "AI: Use this structure to access the keys in the response:\n",
        "\n",
        "```python\n",
        "temp = data[\"current\"][\"temp_c\"]\n",
        "condition = data[\"current\"][\"condition\"][\"text\"]\n",
        "```\n",
        "\n",
        "Me: What if the keys are missing? I want to avoid errors.\n",
        "\n",
        "AI: Wrap the access in a try/except block:\n",
        "\n",
        "```python\n",
        "try:\n",
        "    temp = data[\"current\"][\"temp_c\"]\n",
        "    condition = data[\"current\"][\"condition\"][\"text\"]\n",
        "except KeyError:\n",
        "    temp = None\n",
        "    condition = \"Unknown\"\n",
        "```\n",
        "\n",
        "Me: Great. Can I make the output friendlier?\n",
        "\n",
        "AI: Sure, use emojis and formatted strings:\n",
        "\n",
        "```python\n",
        "if temp is not None:\n",
        "    print(f\"\\ud83c\\udf21\\ufe0f Temperature in {location}: {temp}\\u00b0C\")\n",
        "else:\n",
        "    print(\"\\u26a0\\ufe0f Temperature data not available.\")\n",
        "print(f\"\\u2601\\ufe0f Condition: {condition}\")\n",
        "```\n",
        "\n",
        "Me: I want to log this data to a file. What’s the best way?\n",
        "\n",
        "AI: Use Python’s `with open` block to write to a log:\n",
        "\n",
        "```python\n",
        "with open(\"log.txt\", \"a\") as log:\n",
        "    log.write(f\"{location}: {temp}C, {condition}\\n\")\n",
        "```\n",
        "\n",
        "Me: Thanks, this got me to a working 22-line weather app!\n"
      ],
      "metadata": {
        "id": "Pm_FB2G9Xrlm"
      },
      "id": "Pm_FB2G9Xrlm"
    },
    {
      "cell_type": "code",
      "source": [
        "---\n",
        "\n",
        "Tool: ChatGPT\n",
        "Date: 2025-04-15\n",
        "----------------\n",
        "\n",
        "Me: I want to build a simple weather app in Python that tells me the temperature and condition in my city.\n",
        "\n",
        "AI: You can use an API like weatherapi.com. Use the `requests` library to fetch data. Here's a starter snippet:\n",
        "\n",
        "```python\n",
        "import requests\n",
        "api_url = \"https://api.weatherapi.com/v1/current.json\"\n",
        "key = \"your_api_key\"\n",
        "location = \"Perth\"\n",
        "response = requests.get(f\"{api_url}?key={key}&q={location}\")\n",
        "data = response.json()\n",
        "print(data)\n",
        "```\n",
        "\n",
        "Me: This works, but how do I extract just the temperature and condition?\n",
        "\n",
        "AI: Use this structure to access the keys in the response:\n",
        "\n",
        "```python\n",
        "temp = data[\"current\"][\"temp_c\"]\n",
        "condition = data[\"current\"][\"condition\"][\"text\"]\n",
        "```\n",
        "\n",
        "Me: What if the keys are missing? I want to avoid errors.\n",
        "\n",
        "AI: Wrap the access in a try/except block:\n",
        "\n",
        "```python\n",
        "try:\n",
        "    temp = data[\"current\"][\"temp_c\"]\n",
        "    condition = data[\"current\"][\"condition\"][\"text\"]\n",
        "except KeyError:\n",
        "    temp = None\n",
        "    condition = \"Unknown\"\n",
        "```\n",
        "\n",
        "Me: Great. Can I make the output friendlier?\n",
        "\n",
        "AI: Sure, use emojis and formatted strings:\n",
        "\n",
        "```python\n",
        "if temp is not None:\n",
        "    print(f\"🌡️ Temperature in {location}: {temp}°C\")\n",
        "else:\n",
        "    print(\"⚠️ Temperature data not available.\")\n",
        "print(f\"☁️ Condition: {condition}\")\n",
        "```\n",
        "\n",
        "Me: I want to log this data to a file. What’s the best way?\n",
        "\n",
        "AI: Use Python’s `with open` block to write to a log:\n",
        "\n",
        "```python\n",
        "with open(\"log.txt\", \"a\") as log:\n",
        "    log.write(f\"{location}: {temp}C, {condition}\\n\")\n",
        "```\n",
        "\n",
        "Me: Thanks, this got me to a working 22-line weather app!\n",
        "\n",
        "---\n",
        "\n",
        "Tool: ChatGPT\n",
        "Date: 2025-04-17\n",
        "----------------\n",
        "\n",
        "Me: I want to allow users to input their city instead of hardcoding it.\n",
        "\n",
        "AI: Use `input()` to prompt the user:\n",
        "\n",
        "```python\n",
        "location = input(\"Enter your city: \")\n",
        "```\n",
        "\n",
        "Me: Can I make sure they don't leave it blank?\n",
        "\n",
        "AI: Yes, loop until a non-empty string is entered:\n",
        "\n",
        "```python\n",
        "while not location.strip():\n",
        "    location = input(\"City name can’t be blank. Enter your city: \")\n",
        "```\n",
        "\n",
        "Me: Cool. Now how do I handle an invalid city name?\n",
        "\n",
        "AI: Check the API response for an error message:\n",
        "\n",
        "```python\n",
        "if \"error\" in data:\n",
        "    print(\"❌ Invalid city name. Please try again.\")\n",
        "    exit()\n",
        "```\n",
        "\n",
        "Me: Can we show the local time too?\n",
        "\n",
        "AI: Sure. Extract it like this:\n",
        "\n",
        "```python\n",
        "local_time = data[\"location\"][\"localtime\"]\n",
        "print(f\"🕒 Local time in {location}: {local_time}\")\n",
        "```\n",
        "\n",
        "Me: Thanks, this helps make it more interactive.\n",
        "\n",
        "---\n",
        "\n",
        "Tool: ChatGPT\n",
        "Date: 2025-04-18\n",
        "----------------\n",
        "\n",
        "Me: How can I make this app retry if the API call fails?\n",
        "\n",
        "AI: Wrap the request in a try/except block and use `requests.exceptions.RequestException`:\n",
        "\n",
        "```python\n",
        "try:\n",
        "    response = requests.get(f\"{api_url}?key={key}&q={location}\")\n",
        "    data = response.json()\n",
        "except requests.exceptions.RequestException as e:\n",
        "    print(\"🌐 Network error:\", e)\n",
        "    exit()\n",
        "```\n",
        "\n",
        "Me: Can we add a retry loop?\n",
        "\n",
        "AI: Sure. Here's a simple retry loop with 3 attempts:\n",
        "\n",
        "```python\n",
        "for i in range(3):\n",
        "    try:\n",
        "        response = requests.get(f\"{api_url}?key={key}&q={location}\")\n",
        "        data = response.json()\n",
        "        break\n",
        "    except requests.exceptions.RequestException:\n",
        "        print(f\"Attempt {i+1} failed. Retrying...\")\n",
        "else:\n",
        "    print(\"⚠️ Could not connect after 3 attempts.\")\n",
        "    exit()\n",
        "```\n",
        "\n",
        "Me: Perfect. Now it’s more robust.\n",
        "\n",
        "---\n",
        "\n",
        "Tool: ChatGPT\n",
        "Date: 2025-04-19\n",
        "----------------\n",
        "\n",
        "Me: I want to show both Celsius and Fahrenheit temperatures.\n",
        "\n",
        "AI: You can extract both from the API if available. If not, convert manually:\n",
        "\n",
        "```python\n",
        "temp_c = data[\"current\"][\"temp_c\"]\n",
        "temp_f = (temp_c * 9/5) + 32\n",
        "print(f\"🌡️ Temperature: {temp_c}°C / {temp_f:.1f}°F\")\n",
        "```\n",
        "\n",
        "Me: Can I show weather icons too?\n",
        "\n",
        "AI: Yes, use the icon URL provided in the API:\n",
        "\n",
        "```python\n",
        "icon_url = \"https:\" + data[\"current\"][\"condition\"][\"icon\"]\n",
        "print(f\"🌦️ Icon URL: {icon_url}\")\n",
        "```\n",
        "\n",
        "Me: Thanks! I might later add GUI support.\n",
        "\n",
        "---\n",
        "\n",
        "Tool: ChatGPT\n",
        "Date: 2025-04-20\n",
        "----------------\n",
        "\n",
        "Me: I want to turn this into a function so I can reuse it.\n",
        "\n",
        "AI: Create a function that takes location as a parameter:\n",
        "\n",
        "```python\n",
        "def get_weather(location):\n",
        "    try:\n",
        "        response = requests.get(f\"{api_url}?key={key}&q={location}\")\n",
        "        data = response.json()\n",
        "        if \"error\" in data:\n",
        "            return None\n",
        "        return data\n",
        "    except:\n",
        "        return None\n",
        "```\n",
        "\n",
        "Me: And then I can call it like this?\n",
        "\n",
        "AI: Exactly:\n",
        "\n",
        "```python\n",
        "weather = get_weather(\"Sydney\")\n",
        "if weather:\n",
        "    print(weather[\"current\"][\"temp_c\"])\n",
        "else:\n",
        "    print(\"Error fetching weather.\")\n",
        "```\n",
        "\n",
        "Me: Awesome, now I can build more on top!\n"
      ],
      "metadata": {
        "id": "RPeCT7YKZUBf"
      },
      "id": "RPeCT7YKZUBf",
      "execution_count": null,
      "outputs": []
    }
  ],
  "metadata": {
    "language_info": {
      "name": "python"
    },
    "colab": {
      "provenance": []
    },
    "kernelspec": {
      "name": "python3",
      "display_name": "Python 3"
    },
    "widgets": {
      "application/vnd.jupyter.widget-state+json": {
        "230365b0af46413bbeeac3178c0df16e": {
          "model_module": "@jupyter-widgets/controls",
          "model_name": "TextModel",
          "model_module_version": "1.5.0",
          "state": {
            "_dom_classes": [],
            "_model_module": "@jupyter-widgets/controls",
            "_model_module_version": "1.5.0",
            "_model_name": "TextModel",
            "_view_count": null,
            "_view_module": "@jupyter-widgets/controls",
            "_view_module_version": "1.5.0",
            "_view_name": "TextView",
            "continuous_update": true,
            "description": "Location:",
            "description_tooltip": null,
            "disabled": false,
            "layout": "IPY_MODEL_a5728b5dff2d418fbab5bb6b06ffd705",
            "placeholder": "​",
            "style": "IPY_MODEL_dcec1f01c77d4f188ba910ca8fd6f283",
            "value": "location mauritius"
          }
        },
        "a5728b5dff2d418fbab5bb6b06ffd705": {
          "model_module": "@jupyter-widgets/base",
          "model_name": "LayoutModel",
          "model_module_version": "1.2.0",
          "state": {
            "_model_module": "@jupyter-widgets/base",
            "_model_module_version": "1.2.0",
            "_model_name": "LayoutModel",
            "_view_count": null,
            "_view_module": "@jupyter-widgets/base",
            "_view_module_version": "1.2.0",
            "_view_name": "LayoutView",
            "align_content": null,
            "align_items": null,
            "align_self": null,
            "border": null,
            "bottom": null,
            "display": null,
            "flex": null,
            "flex_flow": null,
            "grid_area": null,
            "grid_auto_columns": null,
            "grid_auto_flow": null,
            "grid_auto_rows": null,
            "grid_column": null,
            "grid_gap": null,
            "grid_row": null,
            "grid_template_areas": null,
            "grid_template_columns": null,
            "grid_template_rows": null,
            "height": null,
            "justify_content": null,
            "justify_items": null,
            "left": null,
            "margin": null,
            "max_height": null,
            "max_width": null,
            "min_height": null,
            "min_width": null,
            "object_fit": null,
            "object_position": null,
            "order": null,
            "overflow": null,
            "overflow_x": null,
            "overflow_y": null,
            "padding": null,
            "right": null,
            "top": null,
            "visibility": null,
            "width": null
          }
        },
        "dcec1f01c77d4f188ba910ca8fd6f283": {
          "model_module": "@jupyter-widgets/controls",
          "model_name": "DescriptionStyleModel",
          "model_module_version": "1.5.0",
          "state": {
            "_model_module": "@jupyter-widgets/controls",
            "_model_module_version": "1.5.0",
            "_model_name": "DescriptionStyleModel",
            "_view_count": null,
            "_view_module": "@jupyter-widgets/base",
            "_view_module_version": "1.2.0",
            "_view_name": "StyleView",
            "description_width": ""
          }
        },
        "94683ba6001e460da873c40793b9a66a": {
          "model_module": "@jupyter-widgets/controls",
          "model_name": "TextModel",
          "model_module_version": "1.5.0",
          "state": {
            "_dom_classes": [],
            "_model_module": "@jupyter-widgets/controls",
            "_model_module_version": "1.5.0",
            "_model_name": "TextModel",
            "_view_count": null,
            "_view_module": "@jupyter-widgets/controls",
            "_view_module_version": "1.5.0",
            "_view_name": "TextView",
            "continuous_update": true,
            "description": "Your Question:",
            "description_tooltip": null,
            "disabled": false,
            "layout": "IPY_MODEL_89c1ebb1660a48fea37f484cddbe586a",
            "placeholder": "​",
            "style": "IPY_MODEL_1ef27a6a6ba84daa94781c23d70d5fbc",
            "value": "What is the temperature today?"
          }
        },
        "89c1ebb1660a48fea37f484cddbe586a": {
          "model_module": "@jupyter-widgets/base",
          "model_name": "LayoutModel",
          "model_module_version": "1.2.0",
          "state": {
            "_model_module": "@jupyter-widgets/base",
            "_model_module_version": "1.2.0",
            "_model_name": "LayoutModel",
            "_view_count": null,
            "_view_module": "@jupyter-widgets/base",
            "_view_module_version": "1.2.0",
            "_view_name": "LayoutView",
            "align_content": null,
            "align_items": null,
            "align_self": null,
            "border": null,
            "bottom": null,
            "display": null,
            "flex": null,
            "flex_flow": null,
            "grid_area": null,
            "grid_auto_columns": null,
            "grid_auto_flow": null,
            "grid_auto_rows": null,
            "grid_column": null,
            "grid_gap": null,
            "grid_row": null,
            "grid_template_areas": null,
            "grid_template_columns": null,
            "grid_template_rows": null,
            "height": null,
            "justify_content": null,
            "justify_items": null,
            "left": null,
            "margin": null,
            "max_height": null,
            "max_width": null,
            "min_height": null,
            "min_width": null,
            "object_fit": null,
            "object_position": null,
            "order": null,
            "overflow": null,
            "overflow_x": null,
            "overflow_y": null,
            "padding": null,
            "right": null,
            "top": null,
            "visibility": null,
            "width": null
          }
        },
        "1ef27a6a6ba84daa94781c23d70d5fbc": {
          "model_module": "@jupyter-widgets/controls",
          "model_name": "DescriptionStyleModel",
          "model_module_version": "1.5.0",
          "state": {
            "_model_module": "@jupyter-widgets/controls",
            "_model_module_version": "1.5.0",
            "_model_name": "DescriptionStyleModel",
            "_view_count": null,
            "_view_module": "@jupyter-widgets/base",
            "_view_module_version": "1.2.0",
            "_view_name": "StyleView",
            "description_width": ""
          }
        },
        "1de5b8ad4f3c4c5e941e78d26356627b": {
          "model_module": "@jupyter-widgets/controls",
          "model_name": "ButtonModel",
          "model_module_version": "1.5.0",
          "state": {
            "_dom_classes": [],
            "_model_module": "@jupyter-widgets/controls",
            "_model_module_version": "1.5.0",
            "_model_name": "ButtonModel",
            "_view_count": null,
            "_view_module": "@jupyter-widgets/controls",
            "_view_module_version": "1.5.0",
            "_view_name": "ButtonView",
            "button_style": "",
            "description": "Get Forecast",
            "disabled": false,
            "icon": "",
            "layout": "IPY_MODEL_373d270116f34bbdafc4cbc2920156b8",
            "style": "IPY_MODEL_44a994d9e2c24fc5a76163b6e201437e",
            "tooltip": ""
          }
        },
        "373d270116f34bbdafc4cbc2920156b8": {
          "model_module": "@jupyter-widgets/base",
          "model_name": "LayoutModel",
          "model_module_version": "1.2.0",
          "state": {
            "_model_module": "@jupyter-widgets/base",
            "_model_module_version": "1.2.0",
            "_model_name": "LayoutModel",
            "_view_count": null,
            "_view_module": "@jupyter-widgets/base",
            "_view_module_version": "1.2.0",
            "_view_name": "LayoutView",
            "align_content": null,
            "align_items": null,
            "align_self": null,
            "border": null,
            "bottom": null,
            "display": null,
            "flex": null,
            "flex_flow": null,
            "grid_area": null,
            "grid_auto_columns": null,
            "grid_auto_flow": null,
            "grid_auto_rows": null,
            "grid_column": null,
            "grid_gap": null,
            "grid_row": null,
            "grid_template_areas": null,
            "grid_template_columns": null,
            "grid_template_rows": null,
            "height": null,
            "justify_content": null,
            "justify_items": null,
            "left": null,
            "margin": null,
            "max_height": null,
            "max_width": null,
            "min_height": null,
            "min_width": null,
            "object_fit": null,
            "object_position": null,
            "order": null,
            "overflow": null,
            "overflow_x": null,
            "overflow_y": null,
            "padding": null,
            "right": null,
            "top": null,
            "visibility": null,
            "width": null
          }
        },
        "44a994d9e2c24fc5a76163b6e201437e": {
          "model_module": "@jupyter-widgets/controls",
          "model_name": "ButtonStyleModel",
          "model_module_version": "1.5.0",
          "state": {
            "_model_module": "@jupyter-widgets/controls",
            "_model_module_version": "1.5.0",
            "_model_name": "ButtonStyleModel",
            "_view_count": null,
            "_view_module": "@jupyter-widgets/base",
            "_view_module_version": "1.2.0",
            "_view_name": "StyleView",
            "button_color": null,
            "font_weight": ""
          }
        },
        "5b257ffb93f8472bb1ab136e96a0785d": {
          "model_module": "@jupyter-widgets/output",
          "model_name": "OutputModel",
          "model_module_version": "1.0.0",
          "state": {
            "_dom_classes": [],
            "_model_module": "@jupyter-widgets/output",
            "_model_module_version": "1.0.0",
            "_model_name": "OutputModel",
            "_view_count": null,
            "_view_module": "@jupyter-widgets/output",
            "_view_module_version": "1.0.0",
            "_view_name": "OutputView",
            "layout": "IPY_MODEL_1365a063f084470e8c144d9ec3524e7d",
            "msg_id": "",
            "outputs": [
              {
                "output_type": "display_data",
                "data": {
                  "text/plain": "<IPython.core.display.Markdown object>",
                  "text/markdown": "**Response:** The temperature in Port Mathurin today will range between 26°C and 26°C."
                },
                "metadata": {}
              },
              {
                "output_type": "display_data",
                "data": {
                  "text/plain": "<Figure size 800x400 with 1 Axes>",
                  "image/png": "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\n"
                },
                "metadata": {}
              }
            ]
          }
        },
        "1365a063f084470e8c144d9ec3524e7d": {
          "model_module": "@jupyter-widgets/base",
          "model_name": "LayoutModel",
          "model_module_version": "1.2.0",
          "state": {
            "_model_module": "@jupyter-widgets/base",
            "_model_module_version": "1.2.0",
            "_model_name": "LayoutModel",
            "_view_count": null,
            "_view_module": "@jupyter-widgets/base",
            "_view_module_version": "1.2.0",
            "_view_name": "LayoutView",
            "align_content": null,
            "align_items": null,
            "align_self": null,
            "border": null,
            "bottom": null,
            "display": null,
            "flex": null,
            "flex_flow": null,
            "grid_area": null,
            "grid_auto_columns": null,
            "grid_auto_flow": null,
            "grid_auto_rows": null,
            "grid_column": null,
            "grid_gap": null,
            "grid_row": null,
            "grid_template_areas": null,
            "grid_template_columns": null,
            "grid_template_rows": null,
            "height": null,
            "justify_content": null,
            "justify_items": null,
            "left": null,
            "margin": null,
            "max_height": null,
            "max_width": null,
            "min_height": null,
            "min_width": null,
            "object_fit": null,
            "object_position": null,
            "order": null,
            "overflow": null,
            "overflow_x": null,
            "overflow_y": null,
            "padding": null,
            "right": null,
            "top": null,
            "visibility": null,
            "width": null
          }
        }
      }
    }
  },
  "nbformat": 4,
  "nbformat_minor": 5
}